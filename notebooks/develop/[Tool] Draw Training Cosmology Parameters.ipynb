{
 "cells": [
  {
   "cell_type": "code",
   "execution_count": 1,
   "metadata": {},
   "outputs": [],
   "source": [
    "# The script version of this tool can be found at: \n",
    "#      repo/emulator_Nx2pt/emu_Nx2pt/gen_train_set/draw_pco_params.py"
   ]
  },
  {
   "cell_type": "code",
   "execution_count": 2,
   "metadata": {},
   "outputs": [],
   "source": [
    "import numpy as np\n",
    "from pyDOE import lhs\n",
    "import time\n",
    "import matplotlib.pyplot as plt\n",
    "%config InlineBackend.figure_format = 'retina'\n",
    "plt.rc('font', size=16)"
   ]
  },
  {
   "cell_type": "code",
   "execution_count": 3,
   "metadata": {},
   "outputs": [],
   "source": [
    "par_lim = {\n",
    "    'Omega_m': [ 0.2  , 0.4   ],\n",
    "    'sigma_8': [ 0.8  , 0.85  ],\n",
    "    'Omega_b': [ 0.042, 0.050 ],\n",
    "    'n_s'    : [ 0.9  , 1.02  ], \n",
    "    'h'      : [ 0.6  , 0.8   ],\n",
    "}\n",
    "# 1,000,000 points\n",
    "# avg. x^2 (exclude boundary) ... \n",
    "# "
   ]
  },
  {
   "cell_type": "code",
   "execution_count": null,
   "metadata": {},
   "outputs": [],
   "source": []
  },
  {
   "cell_type": "code",
   "execution_count": 4,
   "metadata": {},
   "outputs": [],
   "source": [
    "def rescale(arr_in, domain):\n",
    "    return domain[0] + arr_in * (domain[1]-domain[0])"
   ]
  },
  {
   "cell_type": "code",
   "execution_count": 5,
   "metadata": {},
   "outputs": [],
   "source": [
    "def draw_lhs_samples(Npts, par_lim, criterion='cm'):\n",
    "    '''\n",
    "    criterion: a string that tells lhs how to sample the points (default: None, which simply randomizes the points within the intervals):\n",
    "        “center” or “c”: center the points within the sampling intervals\n",
    "        “maximin” or “m”: maximize the minimum distance between points, but place the point in a randomized location within its interval\n",
    "        “centermaximin” or “cm”: same as “maximin”, but centered within the intervals\n",
    "        “correlation” or “corr”: minimize the maximum correlation coefficient\n",
    "    '''\n",
    "    \n",
    "    Ndim = len(par_lim)\n",
    "    \n",
    "\n",
    "    #start = time.time()\n",
    "    samples = lhs(Ndim, samples=Npts, criterion=criterion)\n",
    "    #end = time.time()\n",
    "    #period = (end - start)/60.\n",
    "    #print(f'lhs finished: {period} mins')\n",
    "    \n",
    "    samples_dict = {}\n",
    "    for j, key in enumerate(par_lim.keys()):\n",
    "        samples_dict[key] = rescale(arr_in=samples[:, j], domain=par_lim[key])\n",
    "        \n",
    "    return samples_dict"
   ]
  },
  {
   "cell_type": "code",
   "execution_count": 6,
   "metadata": {},
   "outputs": [],
   "source": [
    "Npts = 10\n",
    "pco_samples = draw_lhs_samples(Npts=Npts, par_lim=par_lim)"
   ]
  },
  {
   "cell_type": "code",
   "execution_count": 7,
   "metadata": {},
   "outputs": [
    {
     "name": "stdout",
     "output_type": "stream",
     "text": [
      "output file to: /home/hhg/Research/emu_Nx2pt/data/pco_train_10.pkl\n"
     ]
    }
   ],
   "source": [
    "data_dir = '/home/hhg/Research/emu_Nx2pt/data/'\n",
    "filename = data_dir+f'pco_train_{Npts}.pkl'\n",
    "print(f'output file to:', filename)"
   ]
  },
  {
   "cell_type": "code",
   "execution_count": 8,
   "metadata": {},
   "outputs": [],
   "source": [
    "import pickle\n",
    "\n",
    "with open(filename, 'wb') as handle:\n",
    "    pickle.dump(pco_samples, handle)"
   ]
  },
  {
   "cell_type": "code",
   "execution_count": null,
   "metadata": {},
   "outputs": [],
   "source": []
  },
  {
   "cell_type": "markdown",
   "metadata": {},
   "source": [
    "## Check generate samples"
   ]
  },
  {
   "cell_type": "code",
   "execution_count": 9,
   "metadata": {},
   "outputs": [],
   "source": [
    "Npts = 100\n",
    "pco_samples = draw_lhs_samples(Npts=Npts, par_lim=par_lim)"
   ]
  },
  {
   "cell_type": "code",
   "execution_count": 10,
   "metadata": {},
   "outputs": [
    {
     "data": {
      "text/plain": [
       "Text(0, 0.5, '$\\\\sigma_8$')"
      ]
     },
     "execution_count": 10,
     "metadata": {},
     "output_type": "execute_result"
    },
    {
     "data": {
      "image/png": "[encoded data removed]",
      "text/plain": [
       "<Figure size 288x288 with 1 Axes>"
      ]
     },
     "metadata": {
      "image/png": {
       "height": 274,
       "width": 303
      },
      "needs_background": "light"
     },
     "output_type": "display_data"
    }
   ],
   "source": [
    "plt.figure(figsize=(4,4))\n",
    "plt.scatter(pco_samples['Omega_m'], pco_samples['sigma_8'])\n",
    "plt.xlabel('$\\Omega_m$')\n",
    "plt.ylabel('$\\sigma_8$')"
   ]
  },
  {
   "cell_type": "code",
   "execution_count": null,
   "metadata": {},
   "outputs": [],
   "source": []
  },
  {
   "cell_type": "markdown",
   "metadata": {},
   "source": [
    "### Time Estimate of pyDOE.lhs"
   ]
  },
  {
   "cell_type": "code",
   "execution_count": 11,
   "metadata": {},
   "outputs": [],
   "source": [
    "from pyDOE import lhs"
   ]
  },
  {
   "cell_type": "code",
   "execution_count": 12,
   "metadata": {},
   "outputs": [
    {
     "name": "stdout",
     "output_type": "stream",
     "text": [
      "CPU times: user 8.49 s, sys: 52.2 ms, total: 8.54 s\n",
      "Wall time: 8.54 s\n"
     ]
    }
   ],
   "source": [
    "%time samples_ori = lhs(5, samples=1000, criterion='cm')"
   ]
  },
  {
   "cell_type": "code",
   "execution_count": 13,
   "metadata": {},
   "outputs": [
    {
     "name": "stdout",
     "output_type": "stream",
     "text": [
      "CPU times: user 33.9 s, sys: 202 ms, total: 34.1 s\n",
      "Wall time: 34.1 s\n"
     ]
    }
   ],
   "source": [
    "%time samples_ori = lhs(5, samples=2000, criterion='cm')"
   ]
  },
  {
   "cell_type": "code",
   "execution_count": 14,
   "metadata": {},
   "outputs": [
    {
     "name": "stdout",
     "output_type": "stream",
     "text": [
      "CPU times: user 2min 15s, sys: 753 ms, total: 2min 15s\n",
      "Wall time: 2min 15s\n"
     ]
    }
   ],
   "source": [
    "%time samples_ori = lhs(5, samples=4000, criterion='cm')"
   ]
  },
  {
   "cell_type": "markdown",
   "metadata": {},
   "source": [
    "- It looks like the run time of `pyDOE.lhs` scales as O(n^2).\n",
    "- If drawing 1000 points takes ~10 seconds. 0.6M points would take me ~ 600^2x10 seconds = 1000 hours..."
   ]
  },
  {
   "cell_type": "code",
   "execution_count": 15,
   "metadata": {},
   "outputs": [
    {
     "name": "stdout",
     "output_type": "stream",
     "text": [
      "CPU times: user 1.52 ms, sys: 17 µs, total: 1.54 ms\n",
      "Wall time: 1.04 ms\n"
     ]
    }
   ],
   "source": [
    "%time samples_ori = lhs(5, samples=1000, criterion='c')"
   ]
  },
  {
   "cell_type": "code",
   "execution_count": 16,
   "metadata": {},
   "outputs": [
    {
     "name": "stdout",
     "output_type": "stream",
     "text": [
      "CPU times: user 1.73 ms, sys: 22 µs, total: 1.76 ms\n",
      "Wall time: 1.2 ms\n"
     ]
    }
   ],
   "source": [
    "%time samples_ori = lhs(5, samples=2000, criterion='c')"
   ]
  },
  {
   "cell_type": "code",
   "execution_count": 17,
   "metadata": {},
   "outputs": [
    {
     "name": "stdout",
     "output_type": "stream",
     "text": [
      "CPU times: user 0 ns, sys: 2.43 ms, total: 2.43 ms\n",
      "Wall time: 1.6 ms\n"
     ]
    }
   ],
   "source": [
    "%time samples_ori = lhs(5, samples=4000, criterion='c')"
   ]
  }
 ],
 "metadata": {
  "kernelspec": {
   "display_name": "Python 3",
   "language": "python",
   "name": "python3"
  },
  "language_info": {
   "codemirror_mode": {
    "name": "ipython",
    "version": 3
   },
   "file_extension": ".py",
   "mimetype": "text/x-python",
   "name": "python",
   "nbconvert_exporter": "python",
   "pygments_lexer": "ipython3",
   "version": "3.8.10"
  }
 },
 "nbformat": 4,
 "nbformat_minor": 4
}
