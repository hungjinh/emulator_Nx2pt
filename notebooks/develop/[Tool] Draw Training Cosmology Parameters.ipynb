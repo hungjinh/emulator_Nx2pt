{
 "cells": [
  {
   "cell_type": "code",
   "execution_count": 1,
   "metadata": {},
   "outputs": [],
   "source": [
    "# The script version of this tool can be found at: \n",
    "#      repo/emulator_Nx2pt/emu_Nx2pt/gen_train_set/draw_pco_params.py"
   ]
  },
  {
   "cell_type": "code",
   "execution_count": 2,
   "metadata": {},
   "outputs": [],
   "source": [
    "import numpy as np\n",
    "from pyDOE import lhs\n",
    "import time"
   ]
  },
  {
   "cell_type": "code",
   "execution_count": 3,
   "metadata": {},
   "outputs": [],
   "source": [
    "par_lim = {\n",
    "    'Omega_m': [ 0.2  , 0.4   ],\n",
    "    'sigma_8': [ 0.8  , 0.85  ],\n",
    "    'Omega_b': [ 0.042, 0.050 ],\n",
    "    'n_s'    : [ 0.9  , 1.02  ], \n",
    "    'h'      : [ 0.6  , 0.8   ],\n",
    "}\n",
    "# 1,000,000 points\n",
    "# avg. x^2 (exclude boundary) ... \n",
    "# "
   ]
  },
  {
   "cell_type": "code",
   "execution_count": 4,
   "metadata": {},
   "outputs": [],
   "source": [
    "# par_keys = ['Omega_m', 'sigma_8', 'Omega_b', 'n_s', 'h']\n",
    "\n",
    "# domain = np.zeros((2, len(par_keys)))\n",
    "# for i, key in enumerate(par_keys):\n",
    "#     domain[0][i] = par_lim[key][0]\n",
    "#     domain[1][i] = par_lim[key][1]\n",
    "# domain"
   ]
  },
  {
   "cell_type": "code",
   "execution_count": 5,
   "metadata": {},
   "outputs": [],
   "source": [
    "def draw_lhs_samples(Npts, par_lim, criterion='cm', par_keys=None):\n",
    "    '''\n",
    "    criterion: a string that tells lhs how to sample the points (default: None, which simply randomizes the points within the intervals):\n",
    "        “center” or “c”: center the points within the sampling intervals\n",
    "        “maximin” or “m”: maximize the minimum distance between points, but place the point in a randomized location within its interval\n",
    "        “centermaximin” or “cm”: same as “maximin”, but centered within the intervals\n",
    "        “correlation” or “corr”: minimize the maximum correlation coefficient\n",
    "    '''\n",
    "    \n",
    "    if not par_keys:\n",
    "        par_keys = par_lim.keys()\n",
    "    \n",
    "    Ndim = len(par_lim)\n",
    "    \n",
    "    domain = np.zeros((2, Ndim))\n",
    "    for i, key in enumerate(par_keys):\n",
    "        domain[0][i] = par_lim[key][0]\n",
    "        domain[1][i] = par_lim[key][1]\n",
    "    \n",
    "    #start = time.time()\n",
    "    samples = lhs(Ndim, samples=Npts, criterion=criterion)\n",
    "    #end = time.time()\n",
    "    #period = (end - start)/60.\n",
    "    #print(f'lhs finished: {period} mins')\n",
    "    \n",
    "    samples = domain[0] + samples * (domain[1] - domain[0])\n",
    "\n",
    "    return samples"
   ]
  },
  {
   "cell_type": "code",
   "execution_count": 6,
   "metadata": {},
   "outputs": [],
   "source": [
    "Npts = 100\n",
    "pco_samples = draw_lhs_samples(Npts=Npts, par_lim=par_lim, par_keys=['Omega_m', 'sigma_8', 'Omega_b', 'n_s', 'h'])"
   ]
  },
  {
   "cell_type": "code",
   "execution_count": 7,
   "metadata": {},
   "outputs": [
    {
     "data": {
      "text/plain": [
       "(100, 5)"
      ]
     },
     "execution_count": 7,
     "metadata": {},
     "output_type": "execute_result"
    }
   ],
   "source": [
    "pco_samples.shape"
   ]
  },
  {
   "cell_type": "code",
   "execution_count": 8,
   "metadata": {},
   "outputs": [
    {
     "name": "stdout",
     "output_type": "stream",
     "text": [
      "output file to: /home/hhg/Research/emu_Nx2pt/data/pco_m8bnh_100.pkl\n"
     ]
    }
   ],
   "source": [
    "data_dir = '/home/hhg/Research/emu_Nx2pt/data/'\n",
    "filename = data_dir+f'pco_m8bnh_{Npts}.pkl'\n",
    "print(f'output file to:', filename)"
   ]
  },
  {
   "cell_type": "code",
   "execution_count": 9,
   "metadata": {},
   "outputs": [],
   "source": [
    "import pickle\n",
    "\n",
    "with open(filename, 'wb') as handle:\n",
    "    pickle.dump(pco_samples, handle)"
   ]
  },
  {
   "cell_type": "code",
   "execution_count": null,
   "metadata": {},
   "outputs": [],
   "source": []
  },
  {
   "cell_type": "markdown",
   "metadata": {},
   "source": [
    "### Time Estimate of pyDOE.lhs"
   ]
  },
  {
   "cell_type": "code",
   "execution_count": 10,
   "metadata": {},
   "outputs": [],
   "source": [
    "from pyDOE import lhs"
   ]
  },
  {
   "cell_type": "code",
   "execution_count": 11,
   "metadata": {},
   "outputs": [
    {
     "name": "stdout",
     "output_type": "stream",
     "text": [
      "CPU times: user 8.77 s, sys: 89.8 ms, total: 8.86 s\n",
      "Wall time: 8.86 s\n"
     ]
    }
   ],
   "source": [
    "%time samples_ori = lhs(5, samples=1000, criterion='cm')"
   ]
  },
  {
   "cell_type": "code",
   "execution_count": 12,
   "metadata": {},
   "outputs": [
    {
     "name": "stdout",
     "output_type": "stream",
     "text": [
      "CPU times: user 35.5 s, sys: 169 ms, total: 35.7 s\n",
      "Wall time: 35.7 s\n"
     ]
    }
   ],
   "source": [
    "%time samples_ori = lhs(5, samples=2000, criterion='cm')"
   ]
  },
  {
   "cell_type": "code",
   "execution_count": 13,
   "metadata": {},
   "outputs": [
    {
     "name": "stdout",
     "output_type": "stream",
     "text": [
      "CPU times: user 2min 22s, sys: 861 ms, total: 2min 23s\n",
      "Wall time: 2min 23s\n"
     ]
    }
   ],
   "source": [
    "%time samples_ori = lhs(5, samples=4000, criterion='cm')"
   ]
  },
  {
   "cell_type": "markdown",
   "metadata": {},
   "source": [
    "- It looks like the run time of `pyDOE.lhs` scales as O(n^2).\n",
    "- If drawing 1000 points takes ~10 seconds. 0.6M points would take me ~ 600^2x10 seconds = 1000 hours..."
   ]
  },
  {
   "cell_type": "code",
   "execution_count": null,
   "metadata": {},
   "outputs": [],
   "source": []
  }
 ],
 "metadata": {
  "kernelspec": {
   "display_name": "Python 3",
   "language": "python",
   "name": "python3"
  },
  "language_info": {
   "codemirror_mode": {
    "name": "ipython",
    "version": 3
   },
   "file_extension": ".py",
   "mimetype": "text/x-python",
   "name": "python",
   "nbconvert_exporter": "python",
   "pygments_lexer": "ipython3",
   "version": "3.8.10"
  }
 },
 "nbformat": 4,
 "nbformat_minor": 4
}
